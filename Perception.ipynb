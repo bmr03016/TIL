{
 "cells": [
  {
   "cell_type": "code",
   "execution_count": 9,
   "id": "663ed38e",
   "metadata": {},
   "outputs": [],
   "source": [
    "import numpy as np"
   ]
  },
  {
   "cell_type": "markdown",
   "id": "a88ff56e",
   "metadata": {},
   "source": [
    "# 퍼셉트론이란?"
   ]
  },
  {
   "cell_type": "markdown",
   "id": "f53fcc12",
   "metadata": {},
   "source": [
    "- 다수의 신호를 입력받아 하나의 신호를 출력\n",
    "- 신호는 '흐른다/안 흐른다(1이나 0)'으로 두 가지 값을 가짐"
   ]
  },
  {
   "cell_type": "markdown",
   "id": "0364d188",
   "metadata": {},
   "source": [
    "- 입력 신호가 뉴런에 보내질 때는 각각 고유한 가중치(저항)가 곱해짐\n",
    "- 뉴런에서 보내온 신호의 총합이 정해진 한계(임계값, theta)를 넘어설 때 1를 출력 "
   ]
  },
  {
   "cell_type": "markdown",
   "id": "13d09ab7",
   "metadata": {},
   "source": [
    "## 단층퍼셉트론(단순논리회로)"
   ]
  },
  {
   "cell_type": "markdown",
   "id": "46dee0b0",
   "metadata": {},
   "source": [
    "- (직)선형 영역만 표현 가능"
   ]
  },
  {
   "cell_type": "markdown",
   "id": "19e1a5cb",
   "metadata": {},
   "source": [
    "### AND 게이트"
   ]
  },
  {
   "cell_type": "markdown",
   "id": "52ddd0ef",
   "metadata": {},
   "source": [
    "- 입력이 2, 출력은 1"
   ]
  },
  {
   "cell_type": "code",
   "execution_count": 1,
   "id": "1b79d5d9",
   "metadata": {},
   "outputs": [],
   "source": [
    "def AND(x1, x2):\n",
    "    w1, w2, theta = 0.5, 0.5, 0.7\n",
    "    tmp = x1*w1 + x2*w2\n",
    "    if tmp <= theta:\n",
    "        return 0\n",
    "    elif tmp > theta:\n",
    "        return 1"
   ]
  },
  {
   "cell_type": "code",
   "execution_count": 2,
   "id": "cfa244e8",
   "metadata": {},
   "outputs": [
    {
     "data": {
      "text/plain": [
       "0"
      ]
     },
     "execution_count": 2,
     "metadata": {},
     "output_type": "execute_result"
    }
   ],
   "source": [
    "AND(0,0) # 0을 출력"
   ]
  },
  {
   "cell_type": "code",
   "execution_count": 3,
   "id": "68255876",
   "metadata": {},
   "outputs": [
    {
     "data": {
      "text/plain": [
       "0"
      ]
     },
     "execution_count": 3,
     "metadata": {},
     "output_type": "execute_result"
    }
   ],
   "source": [
    "AND(1,0) # 0을 출력"
   ]
  },
  {
   "cell_type": "code",
   "execution_count": 4,
   "id": "b1e893fd",
   "metadata": {},
   "outputs": [
    {
     "data": {
      "text/plain": [
       "0"
      ]
     },
     "execution_count": 4,
     "metadata": {},
     "output_type": "execute_result"
    }
   ],
   "source": [
    "AND(0,1) # 0을 출력"
   ]
  },
  {
   "cell_type": "code",
   "execution_count": null,
   "id": "b0713305",
   "metadata": {},
   "outputs": [],
   "source": [
    "AND(1,1) # 1을 출력"
   ]
  },
  {
   "cell_type": "markdown",
   "id": "52514b6f",
   "metadata": {},
   "source": [
    "**가중치와 편향을 도입한 AND 게이트**"
   ]
  },
  {
   "cell_type": "code",
   "execution_count": 10,
   "id": "74b1ccbc",
   "metadata": {},
   "outputs": [],
   "source": [
    "def AND(x1, x2):\n",
    "    x = np.array([x1, x2])\n",
    "    w = np.array([0.5, 0.5])\n",
    "    b = -0.7\n",
    "    tmp = np.sum(w*x) + b\n",
    "    if tmp <= 0:\n",
    "        return 0\n",
    "    else:\n",
    "        return 1"
   ]
  },
  {
   "cell_type": "markdown",
   "id": "7a59ccc3",
   "metadata": {},
   "source": [
    "### NAND 게이트"
   ]
  },
  {
   "cell_type": "markdown",
   "id": "825730f1",
   "metadata": {},
   "source": [
    "- Not AND (AND 게이트 출력을 뒤집은 것)"
   ]
  },
  {
   "cell_type": "code",
   "execution_count": 11,
   "id": "0f329828",
   "metadata": {},
   "outputs": [],
   "source": [
    "def NAND(x1, x2):\n",
    "    x = np.array([x1, x2]) # 입력\n",
    "    w = np.array([-0.5, -0.5]) # 가중치\n",
    "    b = 0.7 # 편향\n",
    "    tmp = np.sum(w*x) + b\n",
    "    if tmp <= 0:\n",
    "        return 0\n",
    "    else:\n",
    "        return 1"
   ]
  },
  {
   "cell_type": "markdown",
   "id": "d0d118ef",
   "metadata": {},
   "source": [
    "### OR 게이트"
   ]
  },
  {
   "cell_type": "code",
   "execution_count": 12,
   "id": "ee43831e",
   "metadata": {},
   "outputs": [],
   "source": [
    "def OR(x1, x2):\n",
    "    x = np.array([x1, x2]) \n",
    "    w = np.array([0.5, 0.5]) \n",
    "    b = -0.2\n",
    "    tmp = np.sum(w*x) + b\n",
    "    if tmp <= 0:\n",
    "        return 0\n",
    "    else:\n",
    "        return 1"
   ]
  },
  {
   "cell_type": "markdown",
   "id": "79e563bb",
   "metadata": {},
   "source": [
    "## 다층 퍼셉트론"
   ]
  },
  {
   "cell_type": "markdown",
   "id": "32cdf2f5",
   "metadata": {},
   "source": [
    "- 비선형 영역도 표현 가능\n",
    "- (이론상) 퓨터를 표현할 수 있다."
   ]
  },
  {
   "cell_type": "markdown",
   "id": "81b5214b",
   "metadata": {},
   "source": [
    "### XOR 게이트"
   ]
  },
  {
   "cell_type": "markdown",
   "id": "7cfb17b3",
   "metadata": {},
   "source": [
    "- 단층 퍼셉트론으로는 표현할 수 없다.\n",
    "- 배타적 논리합\n",
    "- 2층 퍼셉트론: \n",
    "1. 0층의 두 뉴런이 입력 신호를 받아 1층의 뉴런으로 신호를 보낸다.\n",
    "2. 1층의 뉴런이 2층의 뉴런으로 신호를 보내고, 2층의 뉴런은 y를 출력한다.\n"
   ]
  },
  {
   "cell_type": "code",
   "execution_count": 13,
   "id": "ce77efe1",
   "metadata": {},
   "outputs": [],
   "source": [
    "# AND, NAND, OR게이트 조합하는 방법\n",
    "def XOR(x1, x2):\n",
    "    s1 = NAND(x1, x2)\n",
    "    s2 = OR(x1, x2)\n",
    "    y = AND(s1, s2)\n",
    "    return y"
   ]
  },
  {
   "cell_type": "code",
   "execution_count": 15,
   "id": "af792034",
   "metadata": {},
   "outputs": [
    {
     "name": "stdout",
     "output_type": "stream",
     "text": [
      "0\n",
      "1\n",
      "1\n",
      "0\n"
     ]
    }
   ],
   "source": [
    "print(XOR(0,0)) # 0을 출력\n",
    "print(XOR(1,0)) # 1을 출력\n",
    "print(XOR(0,1)) # 1을 출력\n",
    "print(XOR(1,1)) # 0을 출력"
   ]
  }
 ],
 "metadata": {
  "kernelspec": {
   "display_name": "Python 3 (ipykernel)",
   "language": "python",
   "name": "python3"
  },
  "language_info": {
   "codemirror_mode": {
    "name": "ipython",
    "version": 3
   },
   "file_extension": ".py",
   "mimetype": "text/x-python",
   "name": "python",
   "nbconvert_exporter": "python",
   "pygments_lexer": "ipython3",
   "version": "3.9.12"
  }
 },
 "nbformat": 4,
 "nbformat_minor": 5
}
